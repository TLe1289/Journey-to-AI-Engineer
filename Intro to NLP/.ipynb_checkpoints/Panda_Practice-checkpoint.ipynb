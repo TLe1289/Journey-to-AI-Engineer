{
 "cells": [
  {
   "cell_type": "code",
   "execution_count": 1,
   "id": "b6e1f24e-74c1-4eb3-853c-b6c5486ca4c6",
   "metadata": {
    "editable": true,
    "slideshow": {
     "slide_type": ""
    },
    "tags": []
   },
   "outputs": [],
   "source": [
    "import pandas as pd\n",
    "import numpy as np"
   ]
  },
  {
   "cell_type": "code",
   "execution_count": 3,
   "id": "e1108256-6ee1-480c-9e4b-4bb9e28ffa23",
   "metadata": {},
   "outputs": [
    {
     "data": {
      "text/plain": [
       "0    A\n",
       "1    B\n",
       "2    C\n",
       "3    D\n",
       "dtype: object"
      ]
     },
     "execution_count": 3,
     "metadata": {},
     "output_type": "execute_result"
    }
   ],
   "source": [
    "products = ['A','B','C','D']\n",
    "product_categories = pd.Series(products)\n",
    "product_categories"
   ]
  },
  {
   "cell_type": "code",
   "execution_count": 7,
   "id": "754a2b7d-7882-40fc-9aa9-525a2a86c4a6",
   "metadata": {},
   "outputs": [
    {
     "data": {
      "text/plain": [
       "pandas.core.series.Series"
      ]
     },
     "execution_count": 7,
     "metadata": {},
     "output_type": "execute_result"
    }
   ],
   "source": [
    "type(product_categories)\n",
    "type(pd.Series(product_categories))"
   ]
  },
  {
   "cell_type": "code",
   "execution_count": 8,
   "id": "fbc5f6dc-bf01-4383-b39e-e828b3f4cbe7",
   "metadata": {},
   "outputs": [
    {
     "data": {
      "text/plain": [
       "0    40\n",
       "1    45\n",
       "2    50\n",
       "3    60\n",
       "dtype: int64"
      ]
     },
     "execution_count": 8,
     "metadata": {},
     "output_type": "execute_result"
    }
   ],
   "source": [
    "daily_rate_dollars = pd.Series([40,45,50,60])\n",
    "daily_rate_dollars"
   ]
  },
  {
   "cell_type": "code",
   "execution_count": 9,
   "id": "8e0d33cb-73f4-4613-83b5-137d5807c16e",
   "metadata": {},
   "outputs": [],
   "source": [
    "import numpy as np"
   ]
  },
  {
   "cell_type": "code",
   "execution_count": 11,
   "id": "af3d5407-008a-4b82-8c60-85ae2c096aca",
   "metadata": {},
   "outputs": [
    {
     "data": {
      "text/plain": [
       "array([10, 20, 30, 40])"
      ]
     },
     "execution_count": 11,
     "metadata": {},
     "output_type": "execute_result"
    }
   ],
   "source": [
    "array_a = np.array([10,20,30,40])\n",
    "array_a"
   ]
  },
  {
   "cell_type": "code",
   "execution_count": 12,
   "id": "1132678e-f142-4b8c-9c4d-1b53972efe89",
   "metadata": {},
   "outputs": [
    {
     "data": {
      "text/plain": [
       "numpy.ndarray"
      ]
     },
     "execution_count": 12,
     "metadata": {},
     "output_type": "execute_result"
    }
   ],
   "source": [
    "type(array_a)"
   ]
  },
  {
   "cell_type": "code",
   "execution_count": 13,
   "id": "d7582a67-2993-4eab-bbab-3b094fdc0eb3",
   "metadata": {},
   "outputs": [
    {
     "name": "stdout",
     "output_type": "stream",
     "text": [
      "0    10\n",
      "1    20\n",
      "2    30\n",
      "3    40\n",
      "dtype: int64\n"
     ]
    },
    {
     "data": {
      "text/plain": [
       "pandas.core.series.Series"
      ]
     },
     "execution_count": 13,
     "metadata": {},
     "output_type": "execute_result"
    }
   ],
   "source": [
    "series_a = pd.Series(array_a)\n",
    "print(series_a)\n",
    "type(series_a)"
   ]
  },
  {
   "cell_type": "code",
   "execution_count": 13,
   "id": "2a878ca9-93af-488c-826f-6e3f6585789d",
   "metadata": {},
   "outputs": [
    {
     "data": {
      "text/plain": [
       "'This is Review'"
      ]
     },
     "execution_count": 13,
     "metadata": {},
     "output_type": "execute_result"
    }
   ],
   "source": [
    "\"This is Review\""
   ]
  },
  {
   "cell_type": "code",
   "execution_count": 20,
   "id": "ed7362f3-bbac-4c66-b96e-1a54b606ad8f",
   "metadata": {},
   "outputs": [
    {
     "name": "stdout",
     "output_type": "stream",
     "text": [
      "<NumpyExtensionArray>\n",
      "[np.int64(12), np.int64(14), np.int64(247)]\n",
      "Length: 3, dtype: int64 \n",
      "\n",
      "   First  Second  Third\n",
      "1     10      20     30\n",
      "2     10      20     30 \n",
      "\n",
      "   Ones  two  Three\n",
      "1     1    2      3\n",
      "2    10   20     30\n",
      "3   100  200    300\n",
      "4    11   22     33 \n",
      "\n",
      "        Series 1  Series 2  Series 3\n",
      "red            1        10       100\n",
      "orange         2        11       100\n",
      "yellow         3        12       100\n",
      "green          4        23       100\n",
      "blue           5        45       100 \n",
      "\n"
     ]
    }
   ],
   "source": [
    "random_series = pd.Series({\"Donuts\":12, \"Bagels\": 14, \"Apple Pie\": 247})\n",
    "print(random_series.array, \"\\n\")\n",
    "\n",
    "\n",
    "data = [[10,20,30],[10,20,30]]\n",
    "columns = [\"First\", \"Second\", \"Third\"]\n",
    "index = [1,2]\n",
    "random_DataFrame = pd.DataFrame(data = data, columns = columns, index = index)\n",
    "print(random_DataFrame, \"\\n\")\n",
    "\n",
    "dictionary = {\"Ones\": [1, 10, 100, 11], \"two\": [2, 20, 200, 22], \"Three\": [3, 30, 300, 33]}\n",
    "dictionary_DataFrame = pd.DataFrame(data = dictionary, index = [1,2,3,4])\n",
    "print(dictionary_DataFrame, \"\\n\" )\n",
    "\n",
    "#This is ___ STUPID!!!\n",
    "series_1 = pd.Series([1,2,3,4,5], index = [\"red\", \"orange\", \"yellow\", \"green\", \"blue\"])\n",
    "series_2 = pd.Series([10,11,12,23,45], index = [\"red\", \"orange\", \"yellow\", \"green\", \"blue\"])\n",
    "series_3 = pd.Series([100,100,100,100,100], index = [\"red\", \"orange\", \"yellow\", \"green\", \"blue\"])\n",
    "Series_Dictionary = {\"Series 1\": series_1,  \"Series 2\": series_2, \"Series 3\": series_3,}\n",
    "Wierd_DataFrame = pd.DataFrame(data = Series_Dictionary )\n",
    "print(Wierd_DataFrame, \"\\n\")"
   ]
  },
  {
   "cell_type": "code",
   "execution_count": 25,
   "id": "6cf68ed9-e95f-4c7d-bf91-f1c2c3a83a8b",
   "metadata": {},
   "outputs": [
    {
     "name": "stdout",
     "output_type": "stream",
     "text": [
      "5    6745326534\n",
      "8    1122213213\n",
      "2        654543\n",
      "6          7904\n",
      "3          7707\n",
      "4          2323\n",
      "7          1111\n",
      "1           542\n",
      "0           123\n",
      "dtype: int64\n"
     ]
    }
   ],
   "source": [
    "Bullsht_Series = pd.Series([123,542,654543,7707,2323,6745326534,7904,1111,1122213213])\n",
    "print(Bullsht_Series.sort_values(ascending = False)) "
   ]
  },
  {
   "cell_type": "code",
   "execution_count": 26,
   "id": "89006c92-00a6-42a9-a5f1-67294af84715",
   "metadata": {},
   "outputs": [
    {
     "data": {
      "text/plain": [
       "'This is the part where I do something stupid'"
      ]
     },
     "execution_count": 26,
     "metadata": {},
     "output_type": "execute_result"
    }
   ],
   "source": [
    "\"This is the part where I do something stupid\""
   ]
  },
  {
   "cell_type": "code",
   "execution_count": null,
   "id": "d1c22bc8-8acf-4e8d-884c-0bd20530238b",
   "metadata": {},
   "outputs": [],
   "source": []
  },
  {
   "cell_type": "code",
   "execution_count": 1,
   "id": "d6491888-d30e-43ee-ab0b-919285b20aaf",
   "metadata": {},
   "outputs": [],
   "source": [
    "#import nltk\n",
    "#nltk.dowload('stopwords)"
   ]
  },
  {
   "cell_type": "code",
   "execution_count": null,
   "id": "9abfb9d6-9d22-4ac6-8c64-1af2382a955d",
   "metadata": {},
   "outputs": [],
   "source": []
  },
  {
   "cell_type": "code",
   "execution_count": 1,
   "id": "22f311f4-b850-4af5-acbe-e2a232079a2d",
   "metadata": {},
   "outputs": [
    {
     "data": {
      "text/plain": [
       "'THIS IS A TEST OF A FUNCTION'"
      ]
     },
     "execution_count": 1,
     "metadata": {},
     "output_type": "execute_result"
    }
   ],
   "source": [
    "sentence = \"THIS IS A TEST OF A FUNCTION\"\n",
    "sentence.lower()\n",
    "sentence"
   ]
  },
  {
   "cell_type": "code",
   "execution_count": 2,
   "id": "322bfcdc-5d6c-4ea6-ad24-68190d0a5e29",
   "metadata": {},
   "outputs": [],
   "source": [
    "import re"
   ]
  },
  {
   "cell_type": "code",
   "execution_count": 4,
   "id": "82c6e440-68a9-436f-9eed-41a03538570d",
   "metadata": {},
   "outputs": [
    {
     "name": "stdout",
     "output_type": "stream",
     "text": [
      "this moron \\n is stupid\n"
     ]
    }
   ],
   "source": [
    "my_folder = r\"this moron \\n is stupid\"   #we added an \"r\" before the string \n",
    "print(my_folder)"
   ]
  },
  {
   "cell_type": "code",
   "execution_count": 15,
   "id": "1fd977e0-1cad-4e4b-ae3f-6d323e13a559",
   "metadata": {},
   "outputs": [
    {
     "name": "stdout",
     "output_type": "stream",
     "text": [
      "<re.Match object; span=(97, 98), match='!'>\n"
     ]
    }
   ],
   "source": [
    "dumb_sentence = \"This is a really long string. Let see if this dumbass program can find any patterns using regex!!!\"\n",
    "pattern_to_find = r\"^T\"\n",
    "pattern_to_find2 = r\"!$\"\n",
    "print(re.search(pattern_to_find2, dumb_sentence))"
   ]
  },
  {
   "cell_type": "code",
   "execution_count": 20,
   "id": "75458b84-17ba-4f66-9251-c4991614c3a0",
   "metadata": {},
   "outputs": [
    {
     "name": "stdout",
     "output_type": "stream",
     "text": [
      "<re.Match object; span=(0, 8), match='Terrance'>\n"
     ]
    }
   ],
   "source": [
    "random_paragraph = \"\"\"Terrance knew that sometimes it was simply best to stay out of it. \n",
    "                      He kept repeating this to himself as he watched the scene unfold.\n",
    "                      He knew that nothing good would come of him getting involved. \n",
    "                      It was far better for him to stay on the sidelines and observe.\n",
    "                      He kept yelling this to himself inside his head as he walked over to the couple and punched the man in the face.\"\"\"\n",
    "pattern_to_find = r\"(Terrance|Phillip)\"\n",
    "print(re.search(pattern_to_find,random_paragraph))"
   ]
  },
  {
   "cell_type": "code",
   "execution_count": null,
   "id": "07054910-848a-4888-aabe-01c28a77957a",
   "metadata": {},
   "outputs": [],
   "source": [
    "pattern_to_find = r\"[^\\w\\s]\"\n",
    "#[^] carrot symbol and bracket means \"not\"\n",
    "#\\w means word\n",
    "#\\s means white space\n",
    "#Were looking for pattern that is not a word or a white space --> looking for punctuation"
   ]
  },
  {
   "cell_type": "code",
   "execution_count": 21,
   "id": "93409d5a-96da-49c1-ac38-74aaad0b0989",
   "metadata": {},
   "outputs": [
    {
     "data": {
      "text/plain": [
       "'Regex is useful for filtering through data and finding certain patterns'"
      ]
     },
     "execution_count": 21,
     "metadata": {},
     "output_type": "execute_result"
    }
   ],
   "source": [
    "\"Regex is useful for filtering through data and finding certain patterns\""
   ]
  },
  {
   "cell_type": "code",
   "execution_count": null,
   "id": "1ab7d3ca-38f8-4053-9c65-fd243980e0fe",
   "metadata": {},
   "outputs": [],
   "source": []
  },
  {
   "cell_type": "code",
   "execution_count": 3,
   "id": "0b9d70be-53e7-4d07-a7f0-45fb15c0c52f",
   "metadata": {},
   "outputs": [
    {
     "data": {
      "text/html": [
       "<div>\n",
       "<style scoped>\n",
       "    .dataframe tbody tr th:only-of-type {\n",
       "        vertical-align: middle;\n",
       "    }\n",
       "\n",
       "    .dataframe tbody tr th {\n",
       "        vertical-align: top;\n",
       "    }\n",
       "\n",
       "    .dataframe thead th {\n",
       "        text-align: right;\n",
       "    }\n",
       "</style>\n",
       "<table border=\"1\" class=\"dataframe\">\n",
       "  <thead>\n",
       "    <tr style=\"text-align: right;\">\n",
       "      <th></th>\n",
       "      <th>Review</th>\n",
       "      <th>Rating</th>\n",
       "    </tr>\n",
       "  </thead>\n",
       "  <tbody>\n",
       "    <tr>\n",
       "      <th>0</th>\n",
       "      <td>nice hotel expensive parking got good deal sta...</td>\n",
       "      <td>4</td>\n",
       "    </tr>\n",
       "    <tr>\n",
       "      <th>1</th>\n",
       "      <td>ok nothing special charge diamond member hilto...</td>\n",
       "      <td>2</td>\n",
       "    </tr>\n",
       "    <tr>\n",
       "      <th>20</th>\n",
       "      <td>service service service spent week g-friend la...</td>\n",
       "      <td>5</td>\n",
       "    </tr>\n",
       "    <tr>\n",
       "      <th>25</th>\n",
       "      <td>n't mind noise place great, read reviews noise...</td>\n",
       "      <td>3</td>\n",
       "    </tr>\n",
       "  </tbody>\n",
       "</table>\n",
       "</div>"
      ],
      "text/plain": [
       "                                               Review  Rating\n",
       "0   nice hotel expensive parking got good deal sta...       4\n",
       "1   ok nothing special charge diamond member hilto...       2\n",
       "20  service service service spent week g-friend la...       5\n",
       "25  n't mind noise place great, read reviews noise...       3"
      ]
     },
     "execution_count": 3,
     "metadata": {},
     "output_type": "execute_result"
    }
   ],
   "source": [
    "import pandas as pd\n",
    "import numpy as np\n",
    "pd.set_option(\"display.max_rows\", 5)\n",
    "data = pd.read_csv(\"tripadvisor_hotel_reviews.csv\")\n",
    "data.iloc[[0,1,20,25], 0:2]"
   ]
  },
  {
   "cell_type": "code",
   "execution_count": 13,
   "id": "1633055e-901b-4cd0-8613-70cb5dcdd852",
   "metadata": {},
   "outputs": [
    {
     "name": "stdout",
     "output_type": "stream",
     "text": [
      "count    109.000000\n",
      "mean       3.743119\n",
      "            ...    \n",
      "75%        5.000000\n",
      "max        5.000000\n",
      "Name: Rating, Length: 8, dtype: float64 \n",
      " \n",
      " count                                                   109\n",
      "unique                                                  109\n",
      "top       nice hotel expensive parking got good deal sta...\n",
      "freq                                                      1\n",
      "Name: Review, dtype: object\n"
     ]
    }
   ],
   "source": [
    "print(data.Rating.describe(), \"\\n \\n\", data.Review.describe())\n",
    "#print(data.Rating.mean(), \"\\n \\n\", data.Review.unique())   They are all unique so it will print the entire paragraph. \n"
   ]
  },
  {
   "cell_type": "code",
   "execution_count": 28,
   "id": "5ac78d86-a942-4573-a6be-12be2daa154a",
   "metadata": {},
   "outputs": [
    {
     "data": {
      "text/plain": [
       "0      0.256881\n",
       "1     -1.743119\n",
       "         ...   \n",
       "107    1.256881\n",
       "108    1.256881\n",
       "Name: Rating, Length: 109, dtype: float64"
      ]
     },
     "execution_count": 28,
     "metadata": {},
     "output_type": "execute_result"
    }
   ],
   "source": [
    "subtracted = data.Rating.map(lambda p : p- data.Rating.mean())\n",
    "subtracted"
   ]
  },
  {
   "cell_type": "code",
   "execution_count": 33,
   "id": "ac57eaee-2e7e-43f1-aa32-4a91b16b1bfa",
   "metadata": {},
   "outputs": [
    {
     "ename": "TypeError",
     "evalue": "<lambda>() got an unexpected keyword argument 'axis'",
     "output_type": "error",
     "traceback": [
      "\u001b[1;31m---------------------------------------------------------------------------\u001b[0m",
      "\u001b[1;31mTypeError\u001b[0m                                 Traceback (most recent call last)",
      "Cell \u001b[1;32mIn[33], line 1\u001b[0m\n\u001b[1;32m----> 1\u001b[0m applied \u001b[38;5;241m=\u001b[39m data\u001b[38;5;241m.\u001b[39mRating\u001b[38;5;241m.\u001b[39mapply(\u001b[38;5;28;01mlambda\u001b[39;00m x: [\u001b[38;5;241m1\u001b[39m,\u001b[38;5;241m2\u001b[39m], axis \u001b[38;5;241m=\u001b[39m \u001b[38;5;241m1\u001b[39m)\n\u001b[0;32m      2\u001b[0m applied\n",
      "File \u001b[1;32m~\\anaconda3\\Lib\\site-packages\\pandas\\core\\series.py:4924\u001b[0m, in \u001b[0;36mSeries.apply\u001b[1;34m(self, func, convert_dtype, args, by_row, **kwargs)\u001b[0m\n\u001b[0;32m   4789\u001b[0m \u001b[38;5;28;01mdef\u001b[39;00m\u001b[38;5;250m \u001b[39m\u001b[38;5;21mapply\u001b[39m(\n\u001b[0;32m   4790\u001b[0m     \u001b[38;5;28mself\u001b[39m,\n\u001b[0;32m   4791\u001b[0m     func: AggFuncType,\n\u001b[1;32m   (...)\u001b[0m\n\u001b[0;32m   4796\u001b[0m     \u001b[38;5;241m*\u001b[39m\u001b[38;5;241m*\u001b[39mkwargs,\n\u001b[0;32m   4797\u001b[0m ) \u001b[38;5;241m-\u001b[39m\u001b[38;5;241m>\u001b[39m DataFrame \u001b[38;5;241m|\u001b[39m Series:\n\u001b[0;32m   4798\u001b[0m \u001b[38;5;250m    \u001b[39m\u001b[38;5;124;03m\"\"\"\u001b[39;00m\n\u001b[0;32m   4799\u001b[0m \u001b[38;5;124;03m    Invoke function on values of Series.\u001b[39;00m\n\u001b[0;32m   4800\u001b[0m \n\u001b[1;32m   (...)\u001b[0m\n\u001b[0;32m   4915\u001b[0m \u001b[38;5;124;03m    dtype: float64\u001b[39;00m\n\u001b[0;32m   4916\u001b[0m \u001b[38;5;124;03m    \"\"\"\u001b[39;00m\n\u001b[0;32m   4917\u001b[0m     \u001b[38;5;28;01mreturn\u001b[39;00m SeriesApply(\n\u001b[0;32m   4918\u001b[0m         \u001b[38;5;28mself\u001b[39m,\n\u001b[0;32m   4919\u001b[0m         func,\n\u001b[0;32m   4920\u001b[0m         convert_dtype\u001b[38;5;241m=\u001b[39mconvert_dtype,\n\u001b[0;32m   4921\u001b[0m         by_row\u001b[38;5;241m=\u001b[39mby_row,\n\u001b[0;32m   4922\u001b[0m         args\u001b[38;5;241m=\u001b[39margs,\n\u001b[0;32m   4923\u001b[0m         kwargs\u001b[38;5;241m=\u001b[39mkwargs,\n\u001b[1;32m-> 4924\u001b[0m     )\u001b[38;5;241m.\u001b[39mapply()\n",
      "File \u001b[1;32m~\\anaconda3\\Lib\\site-packages\\pandas\\core\\apply.py:1427\u001b[0m, in \u001b[0;36mSeriesApply.apply\u001b[1;34m(self)\u001b[0m\n\u001b[0;32m   1424\u001b[0m     \u001b[38;5;28;01mreturn\u001b[39;00m \u001b[38;5;28mself\u001b[39m\u001b[38;5;241m.\u001b[39mapply_compat()\n\u001b[0;32m   1426\u001b[0m \u001b[38;5;66;03m# self.func is Callable\u001b[39;00m\n\u001b[1;32m-> 1427\u001b[0m \u001b[38;5;28;01mreturn\u001b[39;00m \u001b[38;5;28mself\u001b[39m\u001b[38;5;241m.\u001b[39mapply_standard()\n",
      "File \u001b[1;32m~\\anaconda3\\Lib\\site-packages\\pandas\\core\\apply.py:1507\u001b[0m, in \u001b[0;36mSeriesApply.apply_standard\u001b[1;34m(self)\u001b[0m\n\u001b[0;32m   1501\u001b[0m \u001b[38;5;66;03m# row-wise access\u001b[39;00m\n\u001b[0;32m   1502\u001b[0m \u001b[38;5;66;03m# apply doesn't have a `na_action` keyword and for backward compat reasons\u001b[39;00m\n\u001b[0;32m   1503\u001b[0m \u001b[38;5;66;03m# we need to give `na_action=\"ignore\"` for categorical data.\u001b[39;00m\n\u001b[0;32m   1504\u001b[0m \u001b[38;5;66;03m# TODO: remove the `na_action=\"ignore\"` when that default has been changed in\u001b[39;00m\n\u001b[0;32m   1505\u001b[0m \u001b[38;5;66;03m#  Categorical (GH51645).\u001b[39;00m\n\u001b[0;32m   1506\u001b[0m action \u001b[38;5;241m=\u001b[39m \u001b[38;5;124m\"\u001b[39m\u001b[38;5;124mignore\u001b[39m\u001b[38;5;124m\"\u001b[39m \u001b[38;5;28;01mif\u001b[39;00m \u001b[38;5;28misinstance\u001b[39m(obj\u001b[38;5;241m.\u001b[39mdtype, CategoricalDtype) \u001b[38;5;28;01melse\u001b[39;00m \u001b[38;5;28;01mNone\u001b[39;00m\n\u001b[1;32m-> 1507\u001b[0m mapped \u001b[38;5;241m=\u001b[39m obj\u001b[38;5;241m.\u001b[39m_map_values(\n\u001b[0;32m   1508\u001b[0m     mapper\u001b[38;5;241m=\u001b[39mcurried, na_action\u001b[38;5;241m=\u001b[39maction, convert\u001b[38;5;241m=\u001b[39m\u001b[38;5;28mself\u001b[39m\u001b[38;5;241m.\u001b[39mconvert_dtype\n\u001b[0;32m   1509\u001b[0m )\n\u001b[0;32m   1511\u001b[0m \u001b[38;5;28;01mif\u001b[39;00m \u001b[38;5;28mlen\u001b[39m(mapped) \u001b[38;5;129;01mand\u001b[39;00m \u001b[38;5;28misinstance\u001b[39m(mapped[\u001b[38;5;241m0\u001b[39m], ABCSeries):\n\u001b[0;32m   1512\u001b[0m     \u001b[38;5;66;03m# GH#43986 Need to do list(mapped) in order to get treated as nested\u001b[39;00m\n\u001b[0;32m   1513\u001b[0m     \u001b[38;5;66;03m#  See also GH#25959 regarding EA support\u001b[39;00m\n\u001b[0;32m   1514\u001b[0m     \u001b[38;5;28;01mreturn\u001b[39;00m obj\u001b[38;5;241m.\u001b[39m_constructor_expanddim(\u001b[38;5;28mlist\u001b[39m(mapped), index\u001b[38;5;241m=\u001b[39mobj\u001b[38;5;241m.\u001b[39mindex)\n",
      "File \u001b[1;32m~\\anaconda3\\Lib\\site-packages\\pandas\\core\\base.py:921\u001b[0m, in \u001b[0;36mIndexOpsMixin._map_values\u001b[1;34m(self, mapper, na_action, convert)\u001b[0m\n\u001b[0;32m    918\u001b[0m \u001b[38;5;28;01mif\u001b[39;00m \u001b[38;5;28misinstance\u001b[39m(arr, ExtensionArray):\n\u001b[0;32m    919\u001b[0m     \u001b[38;5;28;01mreturn\u001b[39;00m arr\u001b[38;5;241m.\u001b[39mmap(mapper, na_action\u001b[38;5;241m=\u001b[39mna_action)\n\u001b[1;32m--> 921\u001b[0m \u001b[38;5;28;01mreturn\u001b[39;00m algorithms\u001b[38;5;241m.\u001b[39mmap_array(arr, mapper, na_action\u001b[38;5;241m=\u001b[39mna_action, convert\u001b[38;5;241m=\u001b[39mconvert)\n",
      "File \u001b[1;32m~\\anaconda3\\Lib\\site-packages\\pandas\\core\\algorithms.py:1743\u001b[0m, in \u001b[0;36mmap_array\u001b[1;34m(arr, mapper, na_action, convert)\u001b[0m\n\u001b[0;32m   1741\u001b[0m values \u001b[38;5;241m=\u001b[39m arr\u001b[38;5;241m.\u001b[39mastype(\u001b[38;5;28mobject\u001b[39m, copy\u001b[38;5;241m=\u001b[39m\u001b[38;5;28;01mFalse\u001b[39;00m)\n\u001b[0;32m   1742\u001b[0m \u001b[38;5;28;01mif\u001b[39;00m na_action \u001b[38;5;129;01mis\u001b[39;00m \u001b[38;5;28;01mNone\u001b[39;00m:\n\u001b[1;32m-> 1743\u001b[0m     \u001b[38;5;28;01mreturn\u001b[39;00m lib\u001b[38;5;241m.\u001b[39mmap_infer(values, mapper, convert\u001b[38;5;241m=\u001b[39mconvert)\n\u001b[0;32m   1744\u001b[0m \u001b[38;5;28;01melse\u001b[39;00m:\n\u001b[0;32m   1745\u001b[0m     \u001b[38;5;28;01mreturn\u001b[39;00m lib\u001b[38;5;241m.\u001b[39mmap_infer_mask(\n\u001b[0;32m   1746\u001b[0m         values, mapper, mask\u001b[38;5;241m=\u001b[39misna(values)\u001b[38;5;241m.\u001b[39mview(np\u001b[38;5;241m.\u001b[39muint8), convert\u001b[38;5;241m=\u001b[39mconvert\n\u001b[0;32m   1747\u001b[0m     )\n",
      "File \u001b[1;32mlib.pyx:2972\u001b[0m, in \u001b[0;36mpandas._libs.lib.map_infer\u001b[1;34m()\u001b[0m\n",
      "File \u001b[1;32m~\\anaconda3\\Lib\\site-packages\\pandas\\core\\apply.py:1496\u001b[0m, in \u001b[0;36mSeriesApply.apply_standard.<locals>.curried\u001b[1;34m(x)\u001b[0m\n\u001b[0;32m   1495\u001b[0m \u001b[38;5;28;01mdef\u001b[39;00m\u001b[38;5;250m \u001b[39m\u001b[38;5;21mcurried\u001b[39m(x):\n\u001b[1;32m-> 1496\u001b[0m     \u001b[38;5;28;01mreturn\u001b[39;00m func(x, \u001b[38;5;241m*\u001b[39m\u001b[38;5;28mself\u001b[39m\u001b[38;5;241m.\u001b[39margs, \u001b[38;5;241m*\u001b[39m\u001b[38;5;241m*\u001b[39m\u001b[38;5;28mself\u001b[39m\u001b[38;5;241m.\u001b[39mkwargs)\n",
      "\u001b[1;31mTypeError\u001b[0m: <lambda>() got an unexpected keyword argument 'axis'"
     ]
    }
   ],
   "source": [
    "applied = data.Rating.apply(lambda x: [1,2]) #if you try to use .apply() with axis specified on a series it will produce an error\n",
    "#there is no axis to even consider\n"
   ]
  },
  {
   "cell_type": "code",
   "execution_count": null,
   "id": "bfa0820c-3556-490b-9729-6c7ce3cd42cd",
   "metadata": {},
   "outputs": [],
   "source": []
  }
 ],
 "metadata": {
  "kernelspec": {
   "display_name": "Python 3 (ipykernel)",
   "language": "python",
   "name": "python3"
  },
  "language_info": {
   "codemirror_mode": {
    "name": "ipython",
    "version": 3
   },
   "file_extension": ".py",
   "mimetype": "text/x-python",
   "name": "python",
   "nbconvert_exporter": "python",
   "pygments_lexer": "ipython3",
   "version": "3.13.5"
  }
 },
 "nbformat": 4,
 "nbformat_minor": 5
}
