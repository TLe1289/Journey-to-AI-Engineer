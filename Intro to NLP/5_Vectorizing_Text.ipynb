{
 "cells": [
  {
   "cell_type": "markdown",
   "id": "a974b1aa-bb58-459d-ae92-343fc31fb725",
   "metadata": {},
   "source": [
    "Bag of Words"
   ]
  },
  {
   "cell_type": "code",
   "execution_count": 21,
   "id": "741840f5-1f8c-454e-9dcd-b8de53ab65c5",
   "metadata": {},
   "outputs": [],
   "source": [
    "import pandas as pd\n",
    "from sklearn.feature_extraction.text import CountVectorizer # a tool which converts text to matrix of \"token count\""
   ]
  },
  {
   "cell_type": "code",
   "execution_count": 22,
   "id": "79c55ead-d67c-4f52-a756-df0df0d8a712",
   "metadata": {},
   "outputs": [],
   "source": [
    "sentences = [\n",
    "    \"The cat jumped onto the windowsill to watch the rain.\",\n",
    "    \"I forgot my umbrella and got completely soaked.\",\n",
    "    \"She baked a chocolate cake for her friend's birthday.\",\n",
    "    \"The movie was better than I expected, honestly.\",\n",
    "    \"They went hiking despite the storm warnings.\",\n",
    "    \"He listens to jazz while working on his paintings.\"\n",
    "]\n"
   ]
  },
  {
   "cell_type": "code",
   "execution_count": 23,
   "id": "4cbed1f8-0b9f-4cb4-b34f-e8e4fc4aa527",
   "metadata": {},
   "outputs": [],
   "source": [
    "countvec = CountVectorizer()\n",
    "countvec_fit = countvec.fit_transform(sentences)\n",
    "#fit learns the vocabulary.\n",
    "#transform creates a sparse matrix \n"
   ]
  },
  {
   "cell_type": "code",
   "execution_count": 24,
   "id": "d690cd87-8596-4872-930d-0e8a467fc99c",
   "metadata": {
    "collapsed": true,
    "jupyter": {
     "outputs_hidden": true
    }
   },
   "outputs": [
    {
     "name": "stdout",
     "output_type": "stream",
     "text": [
      "<Compressed Sparse Row sparse matrix of dtype 'int64'\n",
      "\twith 46 stored elements and shape (6, 43)>\n",
      "  Coords\tValues\n",
      "  (0, 32)\t3\n",
      "  (0, 5)\t1\n",
      "  (0, 20)\t1\n",
      "  (0, 25)\t1\n",
      "  (0, 41)\t1\n",
      "  (0, 34)\t1\n",
      "  (0, 38)\t1\n",
      "  (0, 27)\t1\n",
      "  (1, 11)\t1\n",
      "  (1, 23)\t1\n",
      "  (1, 35)\t1\n",
      "  (1, 0)\t1\n",
      "  (1, 13)\t1\n",
      "  (1, 7)\t1\n",
      "  (1, 29)\t1\n",
      "  (2, 28)\t1\n",
      "  (2, 1)\t1\n",
      "  (2, 6)\t1\n",
      "  (2, 4)\t1\n",
      "  (2, 10)\t1\n",
      "  (2, 15)\t1\n",
      "  (2, 12)\t1\n",
      "  (2, 3)\t1\n",
      "  (3, 32)\t1\n",
      "  (3, 22)\t1\n",
      "  (3, 37)\t1\n",
      "  (3, 2)\t1\n",
      "  (3, 31)\t1\n",
      "  (3, 9)\t1\n",
      "  (3, 18)\t1\n",
      "  (4, 32)\t1\n",
      "  (4, 33)\t1\n",
      "  (4, 39)\t1\n",
      "  (4, 16)\t1\n",
      "  (4, 8)\t1\n",
      "  (4, 30)\t1\n",
      "  (4, 36)\t1\n",
      "  (5, 34)\t1\n",
      "  (5, 14)\t1\n",
      "  (5, 21)\t1\n",
      "  (5, 19)\t1\n",
      "  (5, 40)\t1\n",
      "  (5, 42)\t1\n",
      "  (5, 24)\t1\n",
      "  (5, 17)\t1\n",
      "  (5, 26)\t1\n",
      "[[0 0 0 0 0 1 0 0 0 0 0 0 0 0 0 0 0 0 0 0 1 0 0 0 0 1 0 1 0 0 0 0 3 0 1 0\n",
      "  0 0 1 0 0 1 0]\n",
      " [1 0 0 0 0 0 0 1 0 0 0 1 0 1 0 0 0 0 0 0 0 0 0 1 0 0 0 0 0 1 0 0 0 0 0 1\n",
      "  0 0 0 0 0 0 0]\n",
      " [0 1 0 1 1 0 1 0 0 0 1 0 1 0 0 1 0 0 0 0 0 0 0 0 0 0 0 0 1 0 0 0 0 0 0 0\n",
      "  0 0 0 0 0 0 0]\n",
      " [0 0 1 0 0 0 0 0 0 1 0 0 0 0 0 0 0 0 1 0 0 0 1 0 0 0 0 0 0 0 0 1 1 0 0 0\n",
      "  0 1 0 0 0 0 0]\n",
      " [0 0 0 0 0 0 0 0 1 0 0 0 0 0 0 0 1 0 0 0 0 0 0 0 0 0 0 0 0 0 1 0 1 1 0 0\n",
      "  1 0 0 1 0 0 0]\n",
      " [0 0 0 0 0 0 0 0 0 0 0 0 0 0 1 0 0 1 0 1 0 1 0 0 1 0 1 0 0 0 0 0 0 0 1 0\n",
      "  0 0 0 0 1 0 1]]\n"
     ]
    }
   ],
   "source": [
    "print(countvec_fit) \n",
    "# (rows = sentences, columns = unique words, values = word counts in each sentence).\n",
    "print(countvec_fit.toarray())\n",
    "# *The size of each sentence row is the number of unique words in the entire dataset,\n",
    "# *and each value (1 or 0) indicates the existence of that word within that specific sentence."
   ]
  },
  {
   "cell_type": "code",
   "execution_count": 25,
   "id": "e3d94472-f600-4de3-8779-d23fee3357fa",
   "metadata": {},
   "outputs": [
    {
     "name": "stdout",
     "output_type": "stream",
     "text": [
      "   and  baked  better  birthday  cake  cat  chocolate  completely  despite  \\\n",
      "0    0      0       0         0     0    1          0           0        0   \n",
      "1    1      0       0         0     0    0          0           1        0   \n",
      "2    0      1       0         1     1    0          1           0        0   \n",
      "3    0      0       1         0     0    0          0           0        0   \n",
      "4    0      0       0         0     0    0          0           0        1   \n",
      "5    0      0       0         0     0    0          0           0        0   \n",
      "\n",
      "   expected  ...  they  to  umbrella  warnings  was  watch  went  while  \\\n",
      "0         0  ...     0   1         0         0    0      1     0      0   \n",
      "1         0  ...     0   0         1         0    0      0     0      0   \n",
      "2         0  ...     0   0         0         0    0      0     0      0   \n",
      "3         1  ...     0   0         0         0    1      0     0      0   \n",
      "4         0  ...     1   0         0         1    0      0     1      0   \n",
      "5         0  ...     0   1         0         0    0      0     0      1   \n",
      "\n",
      "   windowsill  working  \n",
      "0           1        0  \n",
      "1           0        0  \n",
      "2           0        0  \n",
      "3           0        0  \n",
      "4           0        0  \n",
      "5           0        1  \n",
      "\n",
      "[6 rows x 43 columns]\n"
     ]
    }
   ],
   "source": [
    "bag_of_words = pd.DataFrame(countvec_fit.toarray(), columns = countvec.get_feature_names_out())\n",
    "# \"get_feature_names_out()\" gets the original word so \"columns\" is token\n",
    "# \"row\" is each sentence\n",
    "print(bag_of_words)"
   ]
  },
  {
   "cell_type": "code",
   "execution_count": null,
   "id": "9f8cceef-aec1-415e-96fb-450ba5ecbc28",
   "metadata": {},
   "outputs": [],
   "source": []
  },
  {
   "cell_type": "markdown",
   "id": "0bc03f9e-5b58-498a-9d33-0855bdc436aa",
   "metadata": {},
   "source": [
    "TF_IDF: (Occurence of each word) / (the total number of words)"
   ]
  },
  {
   "cell_type": "code",
   "execution_count": 28,
   "id": "9cb3a53f-ca0f-44c2-b088-c2f4296a9f56",
   "metadata": {},
   "outputs": [],
   "source": [
    "from sklearn.feature_extraction.text import TfidfVectorizer"
   ]
  },
  {
   "cell_type": "code",
   "execution_count": 30,
   "id": "e9bfa2b2-36d3-4cef-a077-741d8ce92ed4",
   "metadata": {},
   "outputs": [],
   "source": [
    "tfidvec = TfidfVectorizer()"
   ]
  },
  {
   "cell_type": "code",
   "execution_count": 33,
   "id": "667440c6-8a9b-4b76-8d7d-580748015441",
   "metadata": {},
   "outputs": [],
   "source": [
    "tfidvec_fit = tfidvec.fit_transform(sentences)\n",
    "bag_of_words = pd.DataFrame(tfidvec_fit.toarray(), columns=tfidvec.get_feature_names_out())"
   ]
  },
  {
   "cell_type": "code",
   "execution_count": 34,
   "id": "001b6f6e-b923-47d0-b0b2-093e80d43a4a",
   "metadata": {},
   "outputs": [
    {
     "name": "stdout",
     "output_type": "stream",
     "text": [
      "        and     baked    better  birthday      cake       cat  chocolate  \\\n",
      "0  0.000000  0.000000  0.000000  0.000000  0.000000  0.301702   0.000000   \n",
      "1  0.377964  0.000000  0.000000  0.000000  0.000000  0.000000   0.000000   \n",
      "2  0.000000  0.353553  0.000000  0.353553  0.353553  0.000000   0.353553   \n",
      "3  0.000000  0.000000  0.392858  0.000000  0.000000  0.000000   0.000000   \n",
      "4  0.000000  0.000000  0.000000  0.000000  0.000000  0.000000   0.000000   \n",
      "5  0.000000  0.000000  0.000000  0.000000  0.000000  0.000000   0.000000   \n",
      "\n",
      "   completely   despite  expected  ...      they        to  umbrella  \\\n",
      "0    0.000000  0.000000  0.000000  ...  0.000000  0.247400  0.000000   \n",
      "1    0.377964  0.000000  0.000000  ...  0.000000  0.000000  0.377964   \n",
      "2    0.000000  0.000000  0.000000  ...  0.000000  0.000000  0.000000   \n",
      "3    0.000000  0.000000  0.392858  ...  0.000000  0.000000  0.000000   \n",
      "4    0.000000  0.392858  0.000000  ...  0.392858  0.000000  0.000000   \n",
      "5    0.000000  0.000000  0.000000  ...  0.000000  0.278453  0.000000   \n",
      "\n",
      "   warnings       was     watch      went    while  windowsill  working  \n",
      "0  0.000000  0.000000  0.301702  0.000000  0.00000    0.301702  0.00000  \n",
      "1  0.000000  0.000000  0.000000  0.000000  0.00000    0.000000  0.00000  \n",
      "2  0.000000  0.000000  0.000000  0.000000  0.00000    0.000000  0.00000  \n",
      "3  0.000000  0.392858  0.000000  0.000000  0.00000    0.000000  0.00000  \n",
      "4  0.392858  0.000000  0.000000  0.392858  0.00000    0.000000  0.00000  \n",
      "5  0.000000  0.000000  0.000000  0.000000  0.33957    0.000000  0.33957  \n",
      "\n",
      "[6 rows x 43 columns]\n"
     ]
    }
   ],
   "source": [
    "print(bag_of_words)"
   ]
  },
  {
   "cell_type": "code",
   "execution_count": null,
   "id": "c16b30a9-bf35-4cb9-9b00-2ecba957f438",
   "metadata": {},
   "outputs": [],
   "source": []
  }
 ],
 "metadata": {
  "kernelspec": {
   "display_name": "Python 3 (ipykernel)",
   "language": "python",
   "name": "python3"
  },
  "language_info": {
   "codemirror_mode": {
    "name": "ipython",
    "version": 3
   },
   "file_extension": ".py",
   "mimetype": "text/x-python",
   "name": "python",
   "nbconvert_exporter": "python",
   "pygments_lexer": "ipython3",
   "version": "3.13.5"
  }
 },
 "nbformat": 4,
 "nbformat_minor": 5
}
