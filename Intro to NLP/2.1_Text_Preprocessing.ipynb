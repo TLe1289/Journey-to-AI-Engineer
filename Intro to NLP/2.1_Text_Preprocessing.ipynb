{
 "cells": [
  {
   "cell_type": "code",
   "execution_count": 1,
   "id": "3fa799fe-92c6-45fc-8169-6155412683b7",
   "metadata": {
    "collapsed": true,
    "jupyter": {
     "outputs_hidden": true
    }
   },
   "outputs": [
    {
     "name": "stderr",
     "output_type": "stream",
     "text": [
      "[nltk_data] Downloading package stopwords to\n",
      "[nltk_data]     C:\\Users\\tle72\\AppData\\Roaming\\nltk_data...\n",
      "[nltk_data]   Package stopwords is already up-to-date!\n"
     ]
    }
   ],
   "source": [
    "import pandas as pd\n",
    "import spacy\n",
    "import nltk\n",
    "nltk.download('stopwords')\n",
    "from nltk.corpus import stopwords "
   ]
  },
  {
   "cell_type": "code",
   "execution_count": 10,
   "id": "d0075a36-d1b2-4826-aa2e-1abe4c2405a7",
   "metadata": {
    "collapsed": true,
    "jupyter": {
     "outputs_hidden": true
    }
   },
   "outputs": [],
   "source": [
    "paragraph = \"\"\"This has been a truly remarkable experience, and I feel compelled to share my detailed review of the new Chronos-X Smartwatch. My journey began last Friday when I received the package from Amazon Prime. The delivery driver, a gentleman named Mark, was exceptionally polite and arrived precisely at 2:00 PM. The unboxing was a treat in itself; the packaging, designed by the Starlight Design Agency, was sleek and minimalist. Inside, I found the watch, the magnetic charging cable, and a small, elegantly bound user manual, a rarity these days.\n",
    "I had been following the development of this device for months, ever since CEO Evelyn Reed first announced it at the Global Tech Summit in Geneva. The specs were impressive on paper: a 50-hour battery life, an OLED Retina Display, and a new chip, the \"Orion 5\", co-developed with Intel. I was particularly intrigued by the inclusion of the new \"Solstice\" health monitoring software, a collaboration with Dr. Anya Sharma and her team at the Bio-Logic Institute in Cambridge, Massachusetts.\n",
    "Over the weekend, I put the watch through its paces. On Saturday morning, my daughter Olivia and I went for a run around Central Park in New York City. The GPS tracking on the Chronos was flawless, accurately mapping our 5K route and synchronizing the data instantly with the FitTrack Pro app on my Google Pixel 7. It even provided a real-time heart rate analysis, which I compared to the readings from my older Garmin Fenix 6. The accuracy was nearly identical. Later that afternoon, my son Leo and I attended a New York Yankees game at Yankee Stadium. The watch's notification system was perfect, alerting me to incoming texts from my wife Sarah and scoring updates from other games. It also integrated seamlessly with the Ticketmaster app, making entry a breeze.\"\"\""
   ]
  },
  {
   "cell_type": "code",
   "execution_count": null,
   "id": "a8ad6088-a26c-4cbc-9e0b-1424cfae71fe",
   "metadata": {
    "collapsed": true,
    "jupyter": {
     "outputs_hidden": true
    }
   },
   "outputs": [],
   "source": []
  },
  {
   "cell_type": "markdown",
   "id": "e464ca21-dfe0-4b31-bca6-7b219424aaf2",
   "metadata": {},
   "source": [
    "This is for lowercasing any of the text"
   ]
  },
  {
   "cell_type": "code",
   "execution_count": 3,
   "id": "a60bf57b-ea50-4c49-85ce-f119af70609d",
   "metadata": {
    "collapsed": true,
    "jupyter": {
     "outputs_hidden": true
    }
   },
   "outputs": [
    {
     "name": "stdout",
     "output_type": "stream",
     "text": [
      "this has been a truly remarkable experience, and i feel compelled to share my detailed review of the new chronos-x smartwatch. my journey began last friday when i received the package from amazon prime. the delivery driver, a gentleman named mark, was exceptionally polite and arrived precisely at 2:00 pm. the unboxing was a treat in itself; the packaging, designed by the starlight design agency, was sleek and minimalist. inside, i found the watch, the magnetic charging cable, and a small, elegantly bound user manual, a rarity these days.\n",
      "i had been following the development of this device for months, ever since ceo evelyn reed first announced it at the global tech summit in geneva. the specs were impressive on paper: a 50-hour battery life, an oled retina display, and a new chip, the \"orion 5\", co-developed with intel. i was particularly intrigued by the inclusion of the new \"solstice\" health monitoring software, a collaboration with dr. anya sharma and her team at the bio-logic institute in cambridge, massachusetts.\n",
      "over the weekend, i put the watch through its paces. on saturday morning, my daughter olivia and i went for a run around central park in new york city. the gps tracking on the chronos was flawless, accurately mapping our 5k route and synchronizing the data instantly with the fittrack pro app on my google pixel 7. it even provided a real-time heart rate analysis, which i compared to the readings from my older garmin fenix 6. the accuracy was nearly identical. later that afternoon, my son leo and i attended a new york yankees game at yankee stadium. the watch's notification system was perfect, alerting me to incoming texts from my wife sarah and scoring updates from other games. it also integrated seamlessly with the ticketmaster app, making entry a breeze.\n"
     ]
    }
   ],
   "source": [
    "lower_paragraph = paragraph.lower()\n",
    "print(lower_paragraph)"
   ]
  },
  {
   "cell_type": "code",
   "execution_count": null,
   "id": "d057fed4-ef1b-49ce-b6c1-0bcab47551b8",
   "metadata": {
    "collapsed": true,
    "jupyter": {
     "outputs_hidden": true
    }
   },
   "outputs": [],
   "source": []
  },
  {
   "cell_type": "markdown",
   "id": "809e98ec-976f-4c3d-a97f-c39585d63b22",
   "metadata": {},
   "source": [
    "This is for removing any stop words within the text"
   ]
  },
  {
   "cell_type": "code",
   "execution_count": 5,
   "id": "27743a14-b290-419e-8cc1-328b86ea9abb",
   "metadata": {
    "collapsed": true,
    "jupyter": {
     "outputs_hidden": true
    }
   },
   "outputs": [
    {
     "name": "stdout",
     "output_type": "stream",
     "text": [
      "['a', 'about', 'above', 'after', 'again', 'against', 'ain', 'all', 'am', 'an', 'and', 'any', 'are', 'aren', \"aren't\", 'as', 'at', 'be', 'because', 'been', 'before', 'being', 'below', 'between', 'both', 'but', 'by', 'can', 'couldn', \"couldn't\", 'd', 'did', 'didn', \"didn't\", 'do', 'does', 'doesn', \"doesn't\", 'doing', 'don', \"don't\", 'down', 'during', 'each', 'few', 'for', 'from', 'further', 'had', 'hadn', \"hadn't\", 'has', 'hasn', \"hasn't\", 'have', 'haven', \"haven't\", 'having', 'he', \"he'd\", \"he'll\", 'her', 'here', 'hers', 'herself', \"he's\", 'him', 'himself', 'his', 'how', 'i', \"i'd\", 'if', \"i'll\", \"i'm\", 'in', 'into', 'is', 'isn', \"isn't\", 'it', \"it'd\", \"it'll\", \"it's\", 'its', 'itself', \"i've\", 'just', 'll', 'm', 'ma', 'me', 'mightn', \"mightn't\", 'more', 'most', 'mustn', \"mustn't\", 'my', 'myself', 'needn', \"needn't\", 'no', 'nor', 'not', 'now', 'o', 'of', 'off', 'on', 'once', 'only', 'or', 'other', 'our', 'ours', 'ourselves', 'out', 'over', 'own', 're', 's', 'same', 'shan', \"shan't\", 'she', \"she'd\", \"she'll\", \"she's\", 'should', 'shouldn', \"shouldn't\", \"should've\", 'so', 'some', 'such', 't', 'than', 'that', \"that'll\", 'the', 'their', 'theirs', 'them', 'themselves', 'then', 'there', 'these', 'they', \"they'd\", \"they'll\", \"they're\", \"they've\", 'this', 'those', 'through', 'to', 'too', 'under', 'until', 'up', 've', 'very', 'was', 'wasn', \"wasn't\", 'we', \"we'd\", \"we'll\", \"we're\", 'were', 'weren', \"weren't\", \"we've\", 'what', 'when', 'where', 'which', 'while', 'who', 'whom', 'why', 'will', 'with', 'won', \"won't\", 'wouldn', \"wouldn't\", 'y', 'you', \"you'd\", \"you'll\", 'your', \"you're\", 'yours', 'yourself', 'yourselves', \"you've\"]\n"
     ]
    }
   ],
   "source": [
    "en_stopwords = stopwords.words(\"english\")\n",
    "print(en_stopwords)"
   ]
  },
  {
   "cell_type": "code",
   "execution_count": 9,
   "id": "b7f8d7e3-743a-4933-b7ce-79b927949bc6",
   "metadata": {
    "collapsed": true,
    "jupyter": {
     "outputs_hidden": true
    }
   },
   "outputs": [
    {
     "name": "stdout",
     "output_type": "stream",
     "text": [
      "truly remarkable experience, feel compelled share detailed review new chronos-x smartwatch. journey began last friday received package amazon prime. delivery driver, gentleman named mark, exceptionally polite arrived precisely 2:00 pm. unboxing treat itself; packaging, designed starlight design agency, sleek minimalist. inside, found watch, magnetic charging cable, small, elegantly bound user manual, rarity days. following development device months, ever since ceo evelyn reed first announced global tech summit geneva. specs impressive paper: 50-hour battery life, oled retina display, new chip, \"orion 5\", co-developed intel. particularly intrigued inclusion new \"solstice\" health monitoring software, collaboration dr. anya sharma team bio-logic institute cambridge, massachusetts. weekend, put watch paces. saturday morning, daughter olivia went run around central park new york city. gps tracking chronos flawless, accurately mapping 5k route synchronizing data instantly fittrack pro app google pixel 7. even provided real-time heart rate analysis, compared readings older garmin fenix 6. accuracy nearly identical. later afternoon, son leo attended new york yankees game yankee stadium. watch's notification system perfect, alerting incoming texts wife sarah scoring updates games. also integrated seamlessly ticketmaster app, making entry breeze.\n"
     ]
    }
   ],
   "source": [
    "#' '.join(___) this code means there will be spaces in between whatever is in the black here\n",
    "\n",
    "# this code is going through each word and appending any words that are not in \"en_stopwords\" additionally join with ' \" for each word\n",
    "sentence_no_stop = ' '.join(word for word in lower_paragraph.split() if word not in en_stopwords)\n",
    "print(sentence_no_stop)"
   ]
  },
  {
   "cell_type": "markdown",
   "id": "e29027ba-9844-499d-b16b-263d69e76c37",
   "metadata": {},
   "source": [
    "Stopwords are essentially an array of words, so theoretically you can adjust your own list of stop words"
   ]
  },
  {
   "cell_type": "code",
   "execution_count": null,
   "id": "84e85e31-dfef-4b65-8de3-a69c62267526",
   "metadata": {
    "collapsed": true,
    "jupyter": {
     "outputs_hidden": true
    }
   },
   "outputs": [],
   "source": []
  },
  {
   "cell_type": "markdown",
   "id": "2e737758-1cfa-41e5-acfd-2306acfb4617",
   "metadata": {
    "collapsed": true,
    "jupyter": {
     "outputs_hidden": true
    }
   },
   "source": [
    "Regular Expressions"
   ]
  },
  {
   "cell_type": "code",
   "execution_count": 11,
   "id": "d599e19e-ab8c-4293-bd14-07239860353f",
   "metadata": {},
   "outputs": [],
   "source": [
    "import re"
   ]
  },
  {
   "cell_type": "code",
   "execution_count": 13,
   "id": "953d079b-034a-4db6-a40a-28d426705f7a",
   "metadata": {},
   "outputs": [
    {
     "name": "stdout",
     "output_type": "stream",
     "text": [
      "C:\\desktop\\notes\n"
     ]
    }
   ],
   "source": [
    "my_folder = r\"C:\\desktop\\notes\"\n",
    "print(my_folder)"
   ]
  },
  {
   "cell_type": "code",
   "execution_count": 15,
   "id": "6f1a0f54-b080-44ce-a3f5-266e5a1336da",
   "metadata": {},
   "outputs": [],
   "source": [
    "# different regex function: re.search(), re.sub()\n",
    "# r\"sarah?\" this means it's either looking for \"sara\" or \"sarah\"\n",
    "# r\"^a\" means any string that begins with letter \"a\"\n",
    "# r\"y$\" means any string that ends with the letter \"y\"\n",
    "\n",
    "pattern_to_find = r\"(need|want)ed$\" #this mean look for needed and wanted"
   ]
  },
  {
   "cell_type": "code",
   "execution_count": 16,
   "id": "b0d32f72-c65e-45b8-b2e9-2b33adad3992",
   "metadata": {},
   "outputs": [],
   "source": [
    "#this is the function for removing punctuation in a string\n",
    "pattern_to_find = r\"[^\\w\\s]\"   # this mean string with no WORDS or SPACES"
   ]
  },
  {
   "cell_type": "code",
   "execution_count": null,
   "id": "900ab3e7-9334-4d2b-9d1d-9added52bc81",
   "metadata": {},
   "outputs": [],
   "source": []
  },
  {
   "cell_type": "markdown",
   "id": "8a2404b5-6f61-463a-9ff9-ee8cc8b74e63",
   "metadata": {},
   "source": [
    "Tokenization"
   ]
  },
  {
   "cell_type": "code",
   "execution_count": 19,
   "id": "8fe9f659-e39b-4b11-ab14-2fc7d1e52a1b",
   "metadata": {},
   "outputs": [
    {
     "name": "stderr",
     "output_type": "stream",
     "text": [
      "[nltk_data] Downloading package punkt_tab to\n",
      "[nltk_data]     C:\\Users\\tle72\\AppData\\Roaming\\nltk_data...\n",
      "[nltk_data]   Package punkt_tab is already up-to-date!\n"
     ]
    }
   ],
   "source": [
    "import nltk\n",
    "nltk.download('punkt_tab')\n",
    "from nltk.tokenize import word_tokenize, sent_tokenize"
   ]
  },
  {
   "cell_type": "code",
   "execution_count": 21,
   "id": "ef4f32dc-1994-41c8-ab67-61c56edc25f2",
   "metadata": {},
   "outputs": [
    {
     "name": "stdout",
     "output_type": "stream",
     "text": [
      "[\"Her cat's name is Luna.\", \"Her dog's name is Max\"]\n",
      "['Her', 'cat', \"'s\", 'name', 'is', 'Luna', '.', 'Her', 'dog', \"'s\", 'name', 'is', 'Max']\n"
     ]
    }
   ],
   "source": [
    "sentences = \"Her cat's name is Luna. Her dog's name is Max\"\n",
    "print(sent_tokenize(sentences))\n",
    "print(word_tokenize(sentences))"
   ]
  },
  {
   "cell_type": "code",
   "execution_count": null,
   "id": "4d27ac8a-92d2-4fe1-95fd-f6565e4514b1",
   "metadata": {},
   "outputs": [],
   "source": []
  },
  {
   "cell_type": "markdown",
   "id": "34918a2b-9c2d-4c9e-9b15-a9315655631c",
   "metadata": {},
   "source": [
    "Stemming and Lemmatization"
   ]
  },
  {
   "cell_type": "markdown",
   "id": "3522977c-f929-408f-be7c-caa784b4cf86",
   "metadata": {},
   "source": [
    "Stemming reducing the word into it's base word, while Lemmatization reduces the word but tries to maintain the original meaning"
   ]
  },
  {
   "cell_type": "code",
   "execution_count": null,
   "id": "4c8ac197-b000-4a20-9cce-c0185a57ea2b",
   "metadata": {},
   "outputs": [],
   "source": [
    "from nltk.stem import PorterStemmer"
   ]
  }
 ],
 "metadata": {
  "kernelspec": {
   "display_name": "Python 3 (ipykernel)",
   "language": "python",
   "name": "python3"
  },
  "language_info": {
   "codemirror_mode": {
    "name": "ipython",
    "version": 3
   },
   "file_extension": ".py",
   "mimetype": "text/x-python",
   "name": "python",
   "nbconvert_exporter": "python",
   "pygments_lexer": "ipython3",
   "version": "3.13.5"
  }
 },
 "nbformat": 4,
 "nbformat_minor": 5
}
