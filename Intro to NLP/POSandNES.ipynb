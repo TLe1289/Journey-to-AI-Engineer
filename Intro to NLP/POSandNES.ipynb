{
 "cells": [
  {
   "cell_type": "markdown",
   "id": "3a1d47e2-b811-4141-ac27-80ce592b329b",
   "metadata": {
    "jp-MarkdownHeadingCollapsed": true
   },
   "source": []
  },
  {
   "cell_type": "code",
   "execution_count": 1,
   "id": "155659bf-eb28-431c-bb91-4ed72c1c600c",
   "metadata": {},
   "outputs": [],
   "source": [
    "import pandas as pd\n",
    "import spacy\n",
    "import numpy as np"
   ]
  },
  {
   "cell_type": "code",
   "execution_count": 3,
   "id": "f610d943-7753-4259-a8eb-ea883a241c8a",
   "metadata": {},
   "outputs": [],
   "source": [
    "nlp = spacy.load(\"en_core_web_sm\")\n",
    "paragraph = \"it was a quiet afternoon, the sun casting long shadows across the dusty floorboards. a gentle breeze drifted through the open window, rustling the yellowed pages of an old book left forgotten on the table. outside, a lone sparrow hopped along the fence, its tiny chirps the only sound to break the stillness. the world seemed to hold its breath, waiting for something to happen, though nothing ever really did. this peaceful, unchanging rhythm was a comfort, a constant in a world that often felt too loud and too fast. the hours slipped by unnoticed, and soon the soft glow of twilight began to paint the sky in shades of orange and purple.\"\n",
    "documented_tokens = nlp(paragraph)\n"
   ]
  },
  {
   "cell_type": "code",
   "execution_count": 8,
   "id": "9e6a4d30-3614-4e5d-b30b-c716f9029401",
   "metadata": {},
   "outputs": [
    {
     "data": {
      "text/html": [
       "<div>\n",
       "<style scoped>\n",
       "    .dataframe tbody tr th:only-of-type {\n",
       "        vertical-align: middle;\n",
       "    }\n",
       "\n",
       "    .dataframe tbody tr th {\n",
       "        vertical-align: top;\n",
       "    }\n",
       "\n",
       "    .dataframe thead th {\n",
       "        text-align: right;\n",
       "    }\n",
       "</style>\n",
       "<table border=\"1\" class=\"dataframe\">\n",
       "  <thead>\n",
       "    <tr style=\"text-align: right;\">\n",
       "      <th></th>\n",
       "      <th>tokens</th>\n",
       "      <th>pos_tag</th>\n",
       "    </tr>\n",
       "  </thead>\n",
       "  <tbody>\n",
       "    <tr>\n",
       "      <th>0</th>\n",
       "      <td>it</td>\n",
       "      <td>PRON</td>\n",
       "    </tr>\n",
       "    <tr>\n",
       "      <th>1</th>\n",
       "      <td>was</td>\n",
       "      <td>AUX</td>\n",
       "    </tr>\n",
       "    <tr>\n",
       "      <th>2</th>\n",
       "      <td>a</td>\n",
       "      <td>DET</td>\n",
       "    </tr>\n",
       "    <tr>\n",
       "      <th>3</th>\n",
       "      <td>quiet</td>\n",
       "      <td>ADJ</td>\n",
       "    </tr>\n",
       "    <tr>\n",
       "      <th>4</th>\n",
       "      <td>afternoon</td>\n",
       "      <td>NOUN</td>\n",
       "    </tr>\n",
       "    <tr>\n",
       "      <th>5</th>\n",
       "      <td>,</td>\n",
       "      <td>PUNCT</td>\n",
       "    </tr>\n",
       "    <tr>\n",
       "      <th>6</th>\n",
       "      <td>the</td>\n",
       "      <td>DET</td>\n",
       "    </tr>\n",
       "    <tr>\n",
       "      <th>7</th>\n",
       "      <td>sun</td>\n",
       "      <td>NOUN</td>\n",
       "    </tr>\n",
       "    <tr>\n",
       "      <th>8</th>\n",
       "      <td>casting</td>\n",
       "      <td>VERB</td>\n",
       "    </tr>\n",
       "    <tr>\n",
       "      <th>9</th>\n",
       "      <td>long</td>\n",
       "      <td>ADJ</td>\n",
       "    </tr>\n",
       "  </tbody>\n",
       "</table>\n",
       "</div>"
      ],
      "text/plain": [
       "      tokens pos_tag\n",
       "0         it    PRON\n",
       "1        was     AUX\n",
       "2          a     DET\n",
       "3      quiet     ADJ\n",
       "4  afternoon    NOUN\n",
       "5          ,   PUNCT\n",
       "6        the     DET\n",
       "7        sun    NOUN\n",
       "8    casting    VERB\n",
       "9       long     ADJ"
      ]
     },
     "execution_count": 8,
     "metadata": {},
     "output_type": "execute_result"
    }
   ],
   "source": [
    "pos_df = pd.DataFrame(columns = [\"tokens\", \"pos_tag\"])\n",
    "for tokens in documented_tokens:\n",
    "    pos_df = pd.concat([pos_df, pd.DataFrame([{\"tokens\": tokens.text, \"pos_tag\": tokens.pos_}])], ignore_index = True)\n",
    "pos_df.head(10)"
   ]
  },
  {
   "cell_type": "markdown",
   "id": "361f1a3b-9487-4d51-98ae-3a6386c79c05",
   "metadata": {},
   "source": [
    "We want to look at the most common tokens and their associated pos_tags"
   ]
  },
  {
   "cell_type": "code",
   "execution_count": 27,
   "id": "9fcaff1c-b57a-4d12-8316-6847ef90636c",
   "metadata": {},
   "outputs": [],
   "source": [
    "#print(pos_df.groupby(\"tokens\").value_counts().reset_index().sort_values(by=[\"count\"], ascending = False))\n",
    "ts = pos_df.groupby([\"tokens\", \"pos_tag\"]).size().reset_index(name = \"count\").sort_values(by = \"count\", ascending = False)"
   ]
  },
  {
   "cell_type": "markdown",
   "id": "e64e86e5-0695-458d-9646-b1e76e1cc08e",
   "metadata": {},
   "source": [
    "How many different words are in each of the pos_tags"
   ]
  },
  {
   "cell_type": "code",
   "execution_count": 29,
   "id": "5455084d-a1b7-46c2-bafb-390717a7dbd4",
   "metadata": {},
   "outputs": [
    {
     "data": {
      "text/html": [
       "<div>\n",
       "<style scoped>\n",
       "    .dataframe tbody tr th:only-of-type {\n",
       "        vertical-align: middle;\n",
       "    }\n",
       "\n",
       "    .dataframe tbody tr th {\n",
       "        vertical-align: top;\n",
       "    }\n",
       "\n",
       "    .dataframe thead th {\n",
       "        text-align: right;\n",
       "    }\n",
       "</style>\n",
       "<table border=\"1\" class=\"dataframe\">\n",
       "  <thead>\n",
       "    <tr style=\"text-align: right;\">\n",
       "      <th></th>\n",
       "      <th>pos_tag</th>\n",
       "      <th>word_count</th>\n",
       "    </tr>\n",
       "  </thead>\n",
       "  <tbody>\n",
       "    <tr>\n",
       "      <th>6</th>\n",
       "      <td>NOUN</td>\n",
       "      <td>27</td>\n",
       "    </tr>\n",
       "    <tr>\n",
       "      <th>12</th>\n",
       "      <td>VERB</td>\n",
       "      <td>16</td>\n",
       "    </tr>\n",
       "    <tr>\n",
       "      <th>0</th>\n",
       "      <td>ADJ</td>\n",
       "      <td>13</td>\n",
       "    </tr>\n",
       "    <tr>\n",
       "      <th>1</th>\n",
       "      <td>ADP</td>\n",
       "      <td>8</td>\n",
       "    </tr>\n",
       "    <tr>\n",
       "      <th>2</th>\n",
       "      <td>ADV</td>\n",
       "      <td>7</td>\n",
       "    </tr>\n",
       "    <tr>\n",
       "      <th>8</th>\n",
       "      <td>PRON</td>\n",
       "      <td>5</td>\n",
       "    </tr>\n",
       "    <tr>\n",
       "      <th>5</th>\n",
       "      <td>DET</td>\n",
       "      <td>4</td>\n",
       "    </tr>\n",
       "    <tr>\n",
       "      <th>10</th>\n",
       "      <td>PUNCT</td>\n",
       "      <td>2</td>\n",
       "    </tr>\n",
       "    <tr>\n",
       "      <th>3</th>\n",
       "      <td>AUX</td>\n",
       "      <td>1</td>\n",
       "    </tr>\n",
       "    <tr>\n",
       "      <th>4</th>\n",
       "      <td>CCONJ</td>\n",
       "      <td>1</td>\n",
       "    </tr>\n",
       "  </tbody>\n",
       "</table>\n",
       "</div>"
      ],
      "text/plain": [
       "   pos_tag  word_count\n",
       "6     NOUN          27\n",
       "12    VERB          16\n",
       "0      ADJ          13\n",
       "1      ADP           8\n",
       "2      ADV           7\n",
       "8     PRON           5\n",
       "5      DET           4\n",
       "10   PUNCT           2\n",
       "3      AUX           1\n",
       "4    CCONJ           1"
      ]
     },
     "execution_count": 29,
     "metadata": {},
     "output_type": "execute_result"
    }
   ],
   "source": [
    "cs = ts.groupby(\"pos_tag\").size().reset_index(name = \"word_count\").sort_values(by = \"word_count\", ascending = False)\n",
    "cs.head(10)"
   ]
  },
  {
   "cell_type": "markdown",
   "id": "d829341f-45a6-4cc1-9142-87aed2d7bb94",
   "metadata": {},
   "source": [
    "List all tokens that included the word noun within the data set. "
   ]
  },
  {
   "cell_type": "code",
   "execution_count": 46,
   "id": "edff36c9-4421-47b0-a7f3-3fc981470a71",
   "metadata": {},
   "outputs": [
    {
     "name": "stdout",
     "output_type": "stream",
     "text": [
      "          tokens pos_tag\n",
      "4      afternoon    NOUN\n",
      "7            sun    NOUN\n",
      "10       shadows    NOUN\n",
      "13         dusty    NOUN\n",
      "14   floorboards    NOUN\n",
      "18        breeze    NOUN\n",
      "23        window    NOUN\n",
      "28         pages    NOUN\n",
      "32          book    NOUN\n",
      "37         table    NOUN\n",
      "43       sparrow    NOUN\n",
      "47         fence    NOUN\n",
      "51        chirps    NOUN\n",
      "54         sound    NOUN\n",
      "58     stillness    NOUN\n",
      "61         world    NOUN\n",
      "66        breath    NOUN\n",
      "84        rhythm    NOUN\n",
      "87       comfort    NOUN\n",
      "90      constant    NOUN\n",
      "93         world    NOUN\n",
      "104        hours    NOUN\n",
      "113         glow    NOUN\n",
      "115     twilight    NOUN\n",
      "120          sky    NOUN\n",
      "122       shades    NOUN\n",
      "124       orange    NOUN\n",
      "126       purple    NOUN\n"
     ]
    }
   ],
   "source": [
    "#Noun_series = ts.tokens[pos_df.pos_tag == \"NOUN\"]\n",
    "Noun_series = pos_df[pos_df.pos_tag == \"NOUN\"]\n",
    "print(Noun_series)"
   ]
  },
  {
   "cell_type": "markdown",
   "id": "a4c4e39c-a26d-4588-a02c-5c73fd0ece09",
   "metadata": {},
   "source": []
  },
  {
   "cell_type": "code",
   "execution_count": 47,
   "id": "ea2aefec-0424-42ac-94ae-85792f68e11c",
   "metadata": {},
   "outputs": [],
   "source": [
    "from spacy import displacy\n",
    "from spacy import tokenizer\n",
    "import re"
   ]
  },
  {
   "cell_type": "markdown",
   "id": "ef7613ad-c002-4023-b58c-483a30fd4453",
   "metadata": {},
   "source": [
    "This is an attempt for doing Named Entity Recognition"
   ]
  },
  {
   "cell_type": "code",
   "execution_count": 53,
   "id": "22965814-ed90-49ae-8139-29f55e086dce",
   "metadata": {},
   "outputs": [],
   "source": [
    "news = \"\"\"Apple announced on Monday that it will invest $2 billion in new data centers in Texas \n",
    "and North Carolina. CEO Tim Cook said the facilities are expected to open in 2026, creating more \n",
    "than 5,000 jobs. Meanwhile, President Joe Biden praised the decision during a press conference \n",
    "in Washington, calling it a major step for the U.S. economy and technology sector.\"\"\"\n",
    "spacy_doc = nlp(news)"
   ]
  },
  {
   "cell_type": "code",
   "execution_count": 54,
   "id": "e4bc1140-4516-4505-bf5f-7af2e332036a",
   "metadata": {},
   "outputs": [
    {
     "name": "stdout",
     "output_type": "stream",
     "text": [
      "Apple ORG\n",
      "Monday DATE\n",
      "$2 billion MONEY\n",
      "Texas GPE\n",
      "North Carolina GPE\n",
      "Tim Cook PERSON\n",
      "2026 DATE\n",
      "5,000 CARDINAL\n",
      "Joe Biden PERSON\n",
      "Washington GPE\n",
      "U.S. GPE\n"
     ]
    }
   ],
   "source": [
    "for token in spacy_doc.ents:\n",
    "    print(token.text, token.label_)"
   ]
  },
  {
   "cell_type": "code",
   "execution_count": 56,
   "id": "4d77ffb7-aa44-4f32-9a55-a6e418d15dc0",
   "metadata": {},
   "outputs": [
    {
     "data": {
      "text/html": [
       "<span class=\"tex2jax_ignore\"><div class=\"entities\" style=\"line-height: 2.5; direction: ltr\">\n",
       "<mark class=\"entity\" style=\"background: #7aecec; padding: 0.45em 0.6em; margin: 0 0.25em; line-height: 1; border-radius: 0.35em;\">\n",
       "    Apple\n",
       "    <span style=\"font-size: 0.8em; font-weight: bold; line-height: 1; border-radius: 0.35em; vertical-align: middle; margin-left: 0.5rem\">ORG</span>\n",
       "</mark>\n",
       " announced on \n",
       "<mark class=\"entity\" style=\"background: #bfe1d9; padding: 0.45em 0.6em; margin: 0 0.25em; line-height: 1; border-radius: 0.35em;\">\n",
       "    Monday\n",
       "    <span style=\"font-size: 0.8em; font-weight: bold; line-height: 1; border-radius: 0.35em; vertical-align: middle; margin-left: 0.5rem\">DATE</span>\n",
       "</mark>\n",
       " that it will invest \n",
       "<mark class=\"entity\" style=\"background: #e4e7d2; padding: 0.45em 0.6em; margin: 0 0.25em; line-height: 1; border-radius: 0.35em;\">\n",
       "    $2 billion\n",
       "    <span style=\"font-size: 0.8em; font-weight: bold; line-height: 1; border-radius: 0.35em; vertical-align: middle; margin-left: 0.5rem\">MONEY</span>\n",
       "</mark>\n",
       " in new data centers in \n",
       "<mark class=\"entity\" style=\"background: #feca74; padding: 0.45em 0.6em; margin: 0 0.25em; line-height: 1; border-radius: 0.35em;\">\n",
       "    Texas\n",
       "    <span style=\"font-size: 0.8em; font-weight: bold; line-height: 1; border-radius: 0.35em; vertical-align: middle; margin-left: 0.5rem\">GPE</span>\n",
       "</mark>\n",
       " <br>and \n",
       "<mark class=\"entity\" style=\"background: #feca74; padding: 0.45em 0.6em; margin: 0 0.25em; line-height: 1; border-radius: 0.35em;\">\n",
       "    North Carolina\n",
       "    <span style=\"font-size: 0.8em; font-weight: bold; line-height: 1; border-radius: 0.35em; vertical-align: middle; margin-left: 0.5rem\">GPE</span>\n",
       "</mark>\n",
       ". CEO \n",
       "<mark class=\"entity\" style=\"background: #aa9cfc; padding: 0.45em 0.6em; margin: 0 0.25em; line-height: 1; border-radius: 0.35em;\">\n",
       "    Tim Cook\n",
       "    <span style=\"font-size: 0.8em; font-weight: bold; line-height: 1; border-radius: 0.35em; vertical-align: middle; margin-left: 0.5rem\">PERSON</span>\n",
       "</mark>\n",
       " said the facilities are expected to open in \n",
       "<mark class=\"entity\" style=\"background: #bfe1d9; padding: 0.45em 0.6em; margin: 0 0.25em; line-height: 1; border-radius: 0.35em;\">\n",
       "    2026\n",
       "    <span style=\"font-size: 0.8em; font-weight: bold; line-height: 1; border-radius: 0.35em; vertical-align: middle; margin-left: 0.5rem\">DATE</span>\n",
       "</mark>\n",
       ", creating more <br>than \n",
       "<mark class=\"entity\" style=\"background: #e4e7d2; padding: 0.45em 0.6em; margin: 0 0.25em; line-height: 1; border-radius: 0.35em;\">\n",
       "    5,000\n",
       "    <span style=\"font-size: 0.8em; font-weight: bold; line-height: 1; border-radius: 0.35em; vertical-align: middle; margin-left: 0.5rem\">CARDINAL</span>\n",
       "</mark>\n",
       " jobs. Meanwhile, President \n",
       "<mark class=\"entity\" style=\"background: #aa9cfc; padding: 0.45em 0.6em; margin: 0 0.25em; line-height: 1; border-radius: 0.35em;\">\n",
       "    Joe Biden\n",
       "    <span style=\"font-size: 0.8em; font-weight: bold; line-height: 1; border-radius: 0.35em; vertical-align: middle; margin-left: 0.5rem\">PERSON</span>\n",
       "</mark>\n",
       " praised the decision during a press conference <br>in \n",
       "<mark class=\"entity\" style=\"background: #feca74; padding: 0.45em 0.6em; margin: 0 0.25em; line-height: 1; border-radius: 0.35em;\">\n",
       "    Washington\n",
       "    <span style=\"font-size: 0.8em; font-weight: bold; line-height: 1; border-radius: 0.35em; vertical-align: middle; margin-left: 0.5rem\">GPE</span>\n",
       "</mark>\n",
       ", calling it a major step for the \n",
       "<mark class=\"entity\" style=\"background: #feca74; padding: 0.45em 0.6em; margin: 0 0.25em; line-height: 1; border-radius: 0.35em;\">\n",
       "    U.S.\n",
       "    <span style=\"font-size: 0.8em; font-weight: bold; line-height: 1; border-radius: 0.35em; vertical-align: middle; margin-left: 0.5rem\">GPE</span>\n",
       "</mark>\n",
       " economy and technology sector.</div></span>"
      ],
      "text/plain": [
       "<IPython.core.display.HTML object>"
      ]
     },
     "metadata": {},
     "output_type": "display_data"
    }
   ],
   "source": [
    "displacy.render(spacy_doc, style = \"ent\", jupyter = True)"
   ]
  },
  {
   "cell_type": "code",
   "execution_count": null,
   "id": "73bc5980-5c28-48a8-8383-578d3f944dde",
   "metadata": {},
   "outputs": [],
   "source": []
  }
 ],
 "metadata": {
  "kernelspec": {
   "display_name": "Python 3 (ipykernel)",
   "language": "python",
   "name": "python3"
  },
  "language_info": {
   "codemirror_mode": {
    "name": "ipython",
    "version": 3
   },
   "file_extension": ".py",
   "mimetype": "text/x-python",
   "name": "python",
   "nbconvert_exporter": "python",
   "pygments_lexer": "ipython3",
   "version": "3.13.5"
  }
 },
 "nbformat": 4,
 "nbformat_minor": 5
}
